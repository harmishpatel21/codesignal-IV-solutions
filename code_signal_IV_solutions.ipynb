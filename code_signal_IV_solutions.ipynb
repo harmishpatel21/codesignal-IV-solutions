{
  "nbformat": 4,
  "nbformat_minor": 0,
  "metadata": {
    "colab": {
      "name": "code-signal-IV-solutions.ipynb",
      "provenance": [],
      "collapsed_sections": [],
      "authorship_tag": "ABX9TyPUo2E6xX7eMyWElGR1aoad",
      "include_colab_link": true
    },
    "kernelspec": {
      "name": "python3",
      "display_name": "Python 3"
    }
  },
  "cells": [
    {
      "cell_type": "markdown",
      "metadata": {
        "id": "view-in-github",
        "colab_type": "text"
      },
      "source": [
        "<a href=\"https://colab.research.google.com/github/harmishpatel21/codesignal-IV-solutions/blob/main/code_signal_IV_solutions.ipynb\" target=\"_parent\"><img src=\"https://colab.research.google.com/assets/colab-badge.svg\" alt=\"Open In Colab\"/></a>"
      ]
    },
    {
      "cell_type": "markdown",
      "metadata": {
        "id": "sqqRqB02XeCG"
      },
      "source": [
        "**Code Signal Solution for Interview Challenges**"
      ]
    },
    {
      "cell_type": "markdown",
      "metadata": {
        "id": "e2nLh4ZIXs4P"
      },
      "source": [
        "**Problem Statement 1:**\n",
        "\n",
        "'''Given an array a that contains only numbers in the range from 1 to a.length, find the first duplicate number for which the second occurrence has the minimal index. In other words, if there are more than 1 duplicated numbers, return the number for which the second occurrence has a smaller index than the second occurrence of the other number does. If there are no such elements, return -1.\n",
        "\n",
        "Example\n",
        "\n",
        "For a = [2, 1, 3, 5, 3, 2], the output should be firstDuplicate(a) = 3.\n",
        "\n",
        "There are 2 duplicates: numbers 2 and 3. The second occurrence of 3 has a smaller index than the second occurrence of 2 does, so the answer is 3.\n",
        "\n",
        "For a = [2, 2], the output should be firstDuplicate(a) = 2;\n",
        "\n",
        "For a = [2, 4, 3, 5, 1], the output should be firstDuplicate(a) = -1.\n",
        "\n",
        "Input/Output\n",
        "\n",
        "[execution time limit] 4 seconds (py3)\n",
        "\n",
        "[input] array.integer a\n",
        "\n",
        "Guaranteed constraints:\n",
        "1 ≤ a.length ≤ 105,\n",
        "1 ≤ a[i] ≤ a.length.\n",
        "\n",
        "[output] integer\n",
        "\n",
        "The element in a that occurs in the array more than once and has the minimal index for its second occurrence. If there are no such elements, return -1.'''\n"
      ]
    },
    {
      "cell_type": "code",
      "metadata": {
        "colab": {
          "base_uri": "https://localhost:8080/"
        },
        "id": "cUhYAI36CqG6",
        "outputId": "b3e21f52-2c58-4433-8f47-875a34a67ca5"
      },
      "source": [
        "def firstDuplicate(a):\n",
        "    seen = set()\n",
        "    for i in a:\n",
        "        if i in seen:\n",
        "            return i\n",
        "        seen.add(i)\n",
        "    return -1\n",
        "\n",
        "a = [2, 1, 3, 5, 3, 2]\n",
        "print(firstDuplicate(a))"
      ],
      "execution_count": 46,
      "outputs": [
        {
          "output_type": "stream",
          "text": [
            "{2}\n",
            "{1, 2}\n",
            "{1, 2, 3}\n",
            "{1, 2, 3, 5}\n",
            "3\n"
          ],
          "name": "stdout"
        }
      ]
    },
    {
      "cell_type": "markdown",
      "metadata": {
        "id": "PQP0T6iPX9a_"
      },
      "source": [
        "**Problem Statement 2:**\n",
        "\n",
        "Given a string s consisting of small English letters, find and return the first instance of a non-repeating character in it. If there is no such character, return '_'.\n",
        "\n",
        "Example\n",
        "\n",
        "For s = \"abacabad\", the output should be\n",
        "firstNotRepeatingCharacter(s) = 'c'.\n",
        "\n",
        "There are 2 non-repeating characters in the string: 'c' and 'd'. Return c since it appears in the string first.\n",
        "\n",
        "For s = \"abacabaabacaba\", the output should be\n",
        "firstNotRepeatingCharacter(s) = '_'.\n",
        "\n",
        "There are no characters in this string that do not repeat.\n",
        "\n",
        "Input/Output\n",
        "\n",
        "[execution time limit] 4 seconds (py3)\n",
        "\n",
        "[input] string s\n",
        "\n",
        "A string that contains only lowercase English letters.\n",
        "\n",
        "Guaranteed constraints:\n",
        "1 ≤ s.length ≤ 105.\n",
        "\n",
        "[output] char\n",
        "\n",
        "The first non-repeating character in s, or '_' if there are no characters that do not repeat."
      ]
    },
    {
      "cell_type": "code",
      "metadata": {
        "colab": {
          "base_uri": "https://localhost:8080/"
        },
        "id": "tmloAu6NF8sV",
        "outputId": "90abc70d-3876-4dc3-964b-87f9c40423a3"
      },
      "source": [
        "def firstNotRepeatingCharacter(s):\n",
        "  x = []\n",
        "  for i in s:\n",
        "    if s.index(i) == s.rindex(i):\n",
        "      return i\n",
        "  return '_'  \n",
        "\n",
        "\n",
        "s = \"abacabad\"\n",
        "# s = \"abacabaabacaba\"\n",
        "print(firstNotRepeatingCharacter(s))"
      ],
      "execution_count": 66,
      "outputs": [
        {
          "output_type": "stream",
          "text": [
            "c\n"
          ],
          "name": "stdout"
        }
      ]
    },
    {
      "cell_type": "markdown",
      "metadata": {
        "id": "x8bfrFBwgl86"
      },
      "source": [
        "**Problem Statement 3:**\n",
        "\n",
        "Note: Try to solve this task in-place (with O(1) additional memory), since this is what you'll be asked to do during an interview.\n",
        "\n",
        "You are given an n x n 2D matrix that represents an image. Rotate the image by 90 degrees (clockwise).\n",
        "\n",
        "Example\n",
        "\n",
        "For\n",
        "\n",
        "a = [[1, 2, 3],\n",
        "     [4, 5, 6],\n",
        "     [7, 8, 9]]\n",
        "the output should be\n",
        "\n",
        "rotateImage(a) =\n",
        "    [[7, 4, 1],\n",
        "     [8, 5, 2],\n",
        "     [9, 6, 3]]\n",
        "Input/Output\n",
        "\n",
        "[execution time limit] 4 seconds (py3)\n",
        "\n",
        "[input] array.array.integer a\n",
        "\n",
        "Guaranteed constraints:\n",
        "1 ≤ a.length ≤ 100,\n",
        "a[i].length = a.length,\n",
        "1 ≤ a[i][j] ≤ 104.\n",
        "\n",
        "[output] array.array.integer"
      ]
    },
    {
      "cell_type": "code",
      "metadata": {
        "colab": {
          "base_uri": "https://localhost:8080/"
        },
        "id": "VKBwML4BRlHv",
        "outputId": "d722b556-a094-49b0-9780-14365dc7cb96"
      },
      "source": [
        "def rotateImage(a):\n",
        "  return list(zip(*a[::-1]))\n",
        "\n",
        "\n",
        "a = [[1, 2, 3], \n",
        "     [4, 5, 6], \n",
        "     [7, 8, 9]] \n",
        "# print(len(a))\n",
        "# print(a[-2][-1])\n",
        "rotateImage(a)"
      ],
      "execution_count": 84,
      "outputs": [
        {
          "output_type": "execute_result",
          "data": {
            "text/plain": [
              "[(7, 4, 1), (8, 5, 2), (9, 6, 3)]"
            ]
          },
          "metadata": {
            "tags": []
          },
          "execution_count": 84
        }
      ]
    },
    {
      "cell_type": "code",
      "metadata": {
        "colab": {
          "base_uri": "https://localhost:8080/"
        },
        "id": "0IadBnnTi6mh",
        "outputId": "37708251-69c1-487a-ac0e-5386f028753c"
      },
      "source": [
        "a[::-1]"
      ],
      "execution_count": 83,
      "outputs": [
        {
          "output_type": "execute_result",
          "data": {
            "text/plain": [
              "[[7, 8, 9], [4, 5, 6], [1, 2, 3]]"
            ]
          },
          "metadata": {
            "tags": []
          },
          "execution_count": 83
        }
      ]
    }
  ]
}